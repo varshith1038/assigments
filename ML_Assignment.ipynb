{
  "nbformat": 4,
  "nbformat_minor": 0,
  "metadata": {
    "colab": {
      "provenance": [],
      "authorship_tag": "ABX9TyNy1C9NdtShaOhFz68pa8ys",
      "include_colab_link": true
    },
    "kernelspec": {
      "name": "python3",
      "display_name": "Python 3"
    },
    "language_info": {
      "name": "python"
    }
  },
  "cells": [
    {
      "cell_type": "markdown",
      "metadata": {
        "id": "view-in-github",
        "colab_type": "text"
      },
      "source": [
        "<a href=\"https://colab.research.google.com/github/varshith1038/assigments/blob/main/ML_Assignment.ipynb\" target=\"_parent\"><img src=\"https://colab.research.google.com/assets/colab-badge.svg\" alt=\"Open In Colab\"/></a>"
      ]
    },
    {
      "cell_type": "code",
      "execution_count": 3,
      "metadata": {
        "id": "_C7nz8TPG6wC"
      },
      "outputs": [],
      "source": [
        "import numpy as np"
      ]
    },
    {
      "cell_type": "code",
      "source": [
        "#1. Creating an array\n",
        "arr1= np.array([0,1,2,3,4,5,6,7,8,9])\n",
        "print(arr1)"
      ],
      "metadata": {
        "colab": {
          "base_uri": "https://localhost:8080/"
        },
        "id": "aq3uNnkoHSEa",
        "outputId": "be7fd616-eb2b-4188-c174-ce0468a9768c"
      },
      "execution_count": 4,
      "outputs": [
        {
          "output_type": "stream",
          "name": "stdout",
          "text": [
            "[0 1 2 3 4 5 6 7 8 9]\n"
          ]
        }
      ]
    },
    {
      "cell_type": "code",
      "source": [
        "#2. Square of each element in array\n",
        "arr2=arr1**2\n",
        "print(arr2)\n"
      ],
      "metadata": {
        "colab": {
          "base_uri": "https://localhost:8080/"
        },
        "id": "FO4nZoI-ILo_",
        "outputId": "e8b8f6c2-4585-4e13-c9ab-1b208657c4ff"
      },
      "execution_count": 5,
      "outputs": [
        {
          "output_type": "stream",
          "name": "stdout",
          "text": [
            "[ 0  1  4  9 16 25 36 49 64 81]\n"
          ]
        }
      ]
    },
    {
      "cell_type": "code",
      "source": [
        "#3. Transformation\n",
        "arr3=arr1.reshape(2,5)\n",
        "print(arr3)"
      ],
      "metadata": {
        "colab": {
          "base_uri": "https://localhost:8080/"
        },
        "id": "cDsNS5GEI_su",
        "outputId": "98d677fc-d9a8-477d-ae54-fd164b142c2f"
      },
      "execution_count": 6,
      "outputs": [
        {
          "output_type": "stream",
          "name": "stdout",
          "text": [
            "[[0 1 2 3 4]\n",
            " [5 6 7 8 9]]\n"
          ]
        }
      ]
    },
    {
      "cell_type": "code",
      "source": [
        "#4. Slice of Life\n",
        "arr4 = arr1[3:6]\n",
        "print(arr4)\n",
        "#We can refer slicing in data analysis as deep investigation and effeicient results"
      ],
      "metadata": {
        "colab": {
          "base_uri": "https://localhost:8080/"
        },
        "id": "bopqEXuSaIuH",
        "outputId": "857cbb86-5553-4dfa-fe7e-f4a5893ba8dd"
      },
      "execution_count": 7,
      "outputs": [
        {
          "output_type": "stream",
          "name": "stdout",
          "text": [
            "[3 4 5]\n"
          ]
        }
      ]
    },
    {
      "cell_type": "code",
      "source": [
        "#5. Conditional\n",
        "mask = arr1>5\n",
        "arr5 = arr1[mask]\n",
        "print(arr5)"
      ],
      "metadata": {
        "colab": {
          "base_uri": "https://localhost:8080/"
        },
        "id": "O2TrCJ5kaOx0",
        "outputId": "90c7abd8-305c-43f3-c53a-6a799fc2e32b"
      },
      "execution_count": 8,
      "outputs": [
        {
          "output_type": "stream",
          "name": "stdout",
          "text": [
            "[6 7 8 9]\n"
          ]
        }
      ]
    },
    {
      "cell_type": "code",
      "source": [
        "#6. Mean , Median and Standard Deviation\n",
        "arr6 = np.array([np.mean(arr1), np.median(arr1), np.std(arr1)])\n",
        "print(arr6)"
      ],
      "metadata": {
        "colab": {
          "base_uri": "https://localhost:8080/"
        },
        "id": "hhTK7aHGbaxH",
        "outputId": "2babe221-4447-4a2c-b383-08ea74b81fad"
      },
      "execution_count": 9,
      "outputs": [
        {
          "output_type": "stream",
          "name": "stdout",
          "text": [
            "[4.5        4.5        2.87228132]\n"
          ]
        }
      ]
    },
    {
      "cell_type": "code",
      "source": [
        "#7. Matrix product\n",
        "array1 = np.array([[1,2], [3,4]])\n",
        "array2 = np.array([[4,5], [1,1]])\n",
        "\n",
        "arr7 = np.matmul(array1,array2)\n",
        "print(arr7)"
      ],
      "metadata": {
        "colab": {
          "base_uri": "https://localhost:8080/"
        },
        "id": "jDjUUDSwcQ6I",
        "outputId": "848a87ba-61f6-4ca9-f6e5-d1cbcb842bd2"
      },
      "execution_count": 10,
      "outputs": [
        {
          "output_type": "stream",
          "name": "stdout",
          "text": [
            "[[ 6  7]\n",
            " [16 19]]\n"
          ]
        }
      ]
    },
    {
      "cell_type": "code",
      "source": [
        "#8. Odd one out\n",
        "\n",
        "arr8 = np.array([0, 1, 2, 3, 4, 5, 6, 7, 8, 9])\n",
        "\n",
        "\n",
        "mask = arr8 % 2 != 0\n",
        "arr8[mask] = -1\n",
        "\n",
        "print(arr8)"
      ],
      "metadata": {
        "colab": {
          "base_uri": "https://localhost:8080/"
        },
        "id": "fXSWVbgSeqRv",
        "outputId": "894fb7af-0bc5-41cd-f9ba-bb820499baea"
      },
      "execution_count": 15,
      "outputs": [
        {
          "output_type": "stream",
          "name": "stdout",
          "text": [
            "[ 0 -1  2 -1  4 -1  6 -1  8 -1]\n"
          ]
        }
      ]
    },
    {
      "cell_type": "code",
      "source": [
        "#9. Random generation 3x3 Matrices\n",
        "arr9 = np.random.randint(1,50, size=(3,3))\n",
        "print(arr9)"
      ],
      "metadata": {
        "colab": {
          "base_uri": "https://localhost:8080/"
        },
        "id": "yFVEVfu_HTzc",
        "outputId": "c2b84e62-aabf-48b2-83df-d70976e73fb5"
      },
      "execution_count": 16,
      "outputs": [
        {
          "output_type": "stream",
          "name": "stdout",
          "text": [
            "[[ 9 12  6]\n",
            " [39 37 23]\n",
            " [48  5 31]]\n"
          ]
        }
      ]
    },
    {
      "cell_type": "code",
      "source": [
        "#10. Joining or Concatination\n",
        "arr10_Vertical = np.concatenate((array1,array2), axis = 0)\n",
        "arr10_Horizontal = np.concatenate((array1, array2), axis = 1)\n",
        "print(\"Vertical\\n\", arr10_Vertical)\n",
        "print(\"Horizontal\\n\",arr10_Horizontal)"
      ],
      "metadata": {
        "colab": {
          "base_uri": "https://localhost:8080/"
        },
        "id": "S1NeO9niHzXY",
        "outputId": "1fbf9bf1-9a86-4b83-aa43-e0f0984de158"
      },
      "execution_count": 22,
      "outputs": [
        {
          "output_type": "stream",
          "name": "stdout",
          "text": [
            "Vertical\n",
            " [[1 2]\n",
            " [3 4]\n",
            " [4 5]\n",
            " [1 1]]\n",
            "Horizontal\n",
            " [[1 2 4 5]\n",
            " [3 4 1 1]]\n"
          ]
        }
      ]
    },
    {
      "cell_type": "code",
      "source": [
        "#11. Intersection of two arrays\n",
        "arr11 = np.intersect1d(array1,array2)\n",
        "print(arr11)"
      ],
      "metadata": {
        "colab": {
          "base_uri": "https://localhost:8080/"
        },
        "id": "zl9-lI69YMJ5",
        "outputId": "0d72e2e7-934d-4807-f712-7519b1de69b5"
      },
      "execution_count": 24,
      "outputs": [
        {
          "output_type": "stream",
          "name": "stdout",
          "text": [
            "[1 4]\n"
          ]
        }
      ]
    },
    {
      "cell_type": "code",
      "source": [
        "#12. CSV file in to array format\n",
        "Data = np.genfromtxt('train.csv', delimiter=',')\n",
        "#print(Data)\n",
        "first_column = data[:, 0]\n",
        "print(first_column)"
      ],
      "metadata": {
        "id": "mAJuJoRLZDOg"
      },
      "execution_count": null,
      "outputs": []
    },
    {
      "cell_type": "code",
      "source": [
        "#13. Complex number handling\n",
        "complex_array = np.array([2 + 3j, 1 - 1j, 5 + 2j, 3 - 4j])\n",
        "sorted_array = np.sort_complex(complex_array)\n",
        "print(complex_array)\n",
        "print(sorted_array)"
      ],
      "metadata": {
        "colab": {
          "base_uri": "https://localhost:8080/"
        },
        "id": "EeGwxw2mc9EP",
        "outputId": "c5f439ce-2b98-490d-a627-78d1878441a7"
      },
      "execution_count": 35,
      "outputs": [
        {
          "output_type": "stream",
          "name": "stdout",
          "text": [
            "[2.+3.j 1.-1.j 5.+2.j 3.-4.j]\n",
            "[1.-1.j 2.+3.j 3.-4.j 5.+2.j]\n"
          ]
        }
      ]
    },
    {
      "cell_type": "code",
      "source": [
        "#14. Solving linear equations\n",
        "A = np.array([[2, 3],\n",
        "              [4, -1]])\n",
        "\n",
        "B = np.array([12, 5])\n",
        "\n",
        "X = np.linalg.solve(A, B)\n",
        "\n",
        "print(\"x =\", X[0])\n",
        "print(\"y =\", X[1])"
      ],
      "metadata": {
        "colab": {
          "base_uri": "https://localhost:8080/"
        },
        "id": "mUIdWqYZd3gj",
        "outputId": "7f95528d-ef1a-43db-a7cf-41cacaa7ac7d"
      },
      "execution_count": 39,
      "outputs": [
        {
          "output_type": "stream",
          "name": "stdout",
          "text": [
            "x = 1.9285714285714286\n",
            "y = 2.7142857142857144\n"
          ]
        }
      ]
    }
  ]
}